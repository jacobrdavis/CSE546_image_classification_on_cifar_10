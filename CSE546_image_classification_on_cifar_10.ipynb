{
  "cells": [
    {
      "cell_type": "markdown",
      "metadata": {
        "id": "view-in-github",
        "colab_type": "text"
      },
      "source": [
        "<a href=\"https://colab.research.google.com/github/jacobrdavis/CSE546_image_classification_on_cifar_10/blob/main/CSE546_image_classification_on_cifar_10.ipynb\" target=\"_parent\"><img src=\"https://colab.research.google.com/assets/colab-badge.svg\" alt=\"Open In Colab\"/></a>"
      ]
    },
    {
      "cell_type": "markdown",
      "metadata": {
        "id": "UNmkdWoXvkBE"
      },
      "source": [
        "## Image Classification on CIFAR-10\n",
        "In this problem we will explore different deep learning architectures for image classification on the CIFAR-10 dataset. Make sure that you are familiar with torch `Tensor`s, two-dimensional convolutions (`nn.Conv2d`) and fully-connected layers (`nn.Linear`), ReLU non-linearities (`F.relu`), pooling (`nn.MaxPool2d`), and tensor reshaping (`view`).\n",
        "\n",
        "We will use Colab because it has free GPU runtimes available; GPUs can accelerate training times for this problem by 10-100x. **You will need to enable the GPU runtime to use it**. To do so, click \"Runtime\" above and then \"Change runtime type\". There under hardware accelerator choose \"GPU\".\n",
        "\n",
        "This notebook provides some starter code for the CIFAR-10 problem on HW4, including a completed training loop to assist with some of the Pytorch setup. You'll need to modify this code to implement the layers required for the assignment, but this provides a working training loop to start from.\n",
        "\n",
        "*Note: GPU runtimes are limited on Colab. Limit your training to short-running jobs (around 20mins or less) and spread training out over time, if possible. Colab WILL limit your usage of GPU time, so plan ahead and be prepared to take breaks during training.* We also suggest performing your early coding/sweeps on a small fraction of the dataset (~10%) to minimize training time and GPU usage."
      ]
    },
    {
      "cell_type": "code",
      "execution_count": 1,
      "metadata": {
        "id": "bb7WymOmv_cx"
      },
      "outputs": [],
      "source": [
        "import torch\n",
        "from torch import nn\n",
        "import numpy as np\n",
        "\n",
        "from typing import Tuple, Union, List, Callable\n",
        "from torch.optim import SGD\n",
        "import torchvision\n",
        "from torch.utils.data import DataLoader, TensorDataset, random_split\n",
        "import matplotlib.pyplot as plt\n",
        "from tqdm.notebook import tqdm"
      ]
    },
    {
      "cell_type": "markdown",
      "metadata": {
        "id": "-SusLoH91CEz"
      },
      "source": [
        "Let's verify that we are using a gpu:"
      ]
    },
    {
      "cell_type": "code",
      "execution_count": 2,
      "metadata": {
        "colab": {
          "base_uri": "https://localhost:8080/"
        },
        "id": "vmxNdxwvxNs1",
        "outputId": "74958020-ad21-44f4-957f-50e2ee395718"
      },
      "outputs": [
        {
          "output_type": "stream",
          "name": "stdout",
          "text": [
            "cuda\n"
          ]
        }
      ],
      "source": [
        "assert torch.cuda.is_available(), \"GPU is not available, check the directions above (or disable this assertion to use CPU)\"\n",
        "\n",
        "DEVICE = \"cuda\" if torch.cuda.is_available() else \"cpu\"\n",
        "print(DEVICE)  # this should print out CUDA"
      ]
    },
    {
      "cell_type": "markdown",
      "metadata": {
        "id": "LbFk2t2RxYcn"
      },
      "source": [
        "To use the GPU you will need to send both the model and data to a device; this transfers the model from its default location on CPU to the GPU.\n",
        "\n",
        "Note that torch operations on Tensors will fail if they are not located on the same device.\n",
        "\n",
        "```python\n",
        "model = model.to(DEVICE)  # Sending a model to GPU\n",
        "\n",
        "for x, y in tqdm(data_loader):\n",
        "  x, y = x.to(DEVICE), y.to(DEVICE)\n",
        "```\n",
        "When reading tensors you may need to send them back to cpu, you can do so with `x = x.cpu()`."
      ]
    },
    {
      "cell_type": "markdown",
      "metadata": {
        "id": "xODE5P5D1Wwy"
      },
      "source": [
        "Let's load CIFAR-10 data. This is how we load datasets using PyTorch in the real world!"
      ]
    },
    {
      "cell_type": "code",
      "execution_count": 34,
      "metadata": {
        "colab": {
          "base_uri": "https://localhost:8080/"
        },
        "id": "wOvLuZry1cKc",
        "outputId": "919741fd-dace-4745-e7a5-251ff10a9f08"
      },
      "outputs": [
        {
          "output_type": "stream",
          "name": "stdout",
          "text": [
            "Files already downloaded and verified\n",
            "Files already downloaded and verified\n"
          ]
        }
      ],
      "source": [
        "train_dataset = torchvision.datasets.CIFAR10(\"./data\", train=True, download=True, transform=torchvision.transforms.ToTensor())\n",
        "test_dataset = torchvision.datasets.CIFAR10(\"./data\", train=False, download=True, transform=torchvision.transforms.ToTensor())"
      ]
    },
    {
      "cell_type": "markdown",
      "metadata": {
        "id": "oG78KMOj61HJ"
      },
      "source": [
        "Here, we'll use the torch `DataLoader` to wrap our datasets. `DataLoader`s handle batching, shuffling, and iterating over data; they can also be useful for building more complex input pipelines that perform transfoermations such as data augmentation."
      ]
    },
    {
      "cell_type": "code",
      "execution_count": null,
      "metadata": {
        "id": "mHIZY4BoRxvC"
      },
      "outputs": [],
      "source": [
        "batch_size = 128\n",
        "\n",
        "train_dataset, val_dataset = random_split(train_dataset, [int(0.9 * len(train_dataset)), int( 0.1 * len(train_dataset))])\n",
        "\n",
        "# Create separate dataloaders for the train, test, and validation set\n",
        "train_loader = DataLoader(\n",
        "    train_dataset,\n",
        "    batch_size=batch_size,\n",
        "    shuffle=True\n",
        ")\n",
        "\n",
        "val_loader = DataLoader(\n",
        "    val_dataset,\n",
        "    batch_size=batch_size,\n",
        "    shuffle=True\n",
        ")\n",
        "\n",
        "test_loader = DataLoader(\n",
        "    test_dataset,\n",
        "    batch_size=batch_size,\n",
        "    shuffle=True\n",
        ")"
      ]
    },
    {
      "cell_type": "markdown",
      "metadata": {
        "id": "ju8QRAyv2u7F"
      },
      "source": [
        "## For Reference: Logistic Regression\n",
        "\n",
        "This problem is about deep learning architectures, not pytorch. We are providing an implementation of logistic regression using SGD in torch, which can serve as a template for the rest of your implementation in this problem."
      ]
    },
    {
      "cell_type": "markdown",
      "metadata": {
        "id": "ELjydYRt5Frf"
      },
      "source": [
        "Before we get started, let's take a look at our data to get an understanding of what we are doing. CIFAR-10 is a dataset containing images split into 10 classes."
      ]
    },
    {
      "cell_type": "code",
      "execution_count": null,
      "metadata": {
        "colab": {
          "base_uri": "https://localhost:8080/",
          "height": 537
        },
        "id": "_UU8aIle5m8Q",
        "outputId": "11a4b439-04f1-42e7-a16e-a50f2561f25b"
      },
      "outputs": [
        {
          "output_type": "stream",
          "name": "stdout",
          "text": [
            "A single batch of images has shape: torch.Size([128, 3, 32, 32])\n",
            "A single RGB image has 3 channels, width 32, and height 32.\n",
            "Size of a batch of images flattened with view: torch.Size([128, 3072])\n",
            "Size of a batch of images flattened with flatten: torch.Size([128, 3072])\n",
            "True\n",
            "This image is labeled as class automobile\n"
          ]
        },
        {
          "output_type": "display_data",
          "data": {
            "text/plain": [
              "<Figure size 640x480 with 1 Axes>"
            ],
            "image/png": "[encoded data removed]"
          },
          "metadata": {}
        }
      ],
      "source": [
        "imgs, labels = next(iter(train_loader))\n",
        "print(f\"A single batch of images has shape: {imgs.size()}\")\n",
        "example_image, example_label = imgs[0], labels[0]\n",
        "c, w, h = example_image.size()\n",
        "print(f\"A single RGB image has {c} channels, width {w}, and height {h}.\")\n",
        "\n",
        "# This is one way to flatten our images\n",
        "batch_flat_view = imgs.view(-1, c * w * h)\n",
        "print(f\"Size of a batch of images flattened with view: {batch_flat_view.size()}\")\n",
        "\n",
        "# This is another equivalent way\n",
        "batch_flat_flatten = imgs.flatten(1)\n",
        "print(f\"Size of a batch of images flattened with flatten: {batch_flat_flatten.size()}\")\n",
        "\n",
        "# The new dimension is just the product of the ones we flattened\n",
        "d = example_image.flatten().size()[0]\n",
        "print(c * w * h == d)\n",
        "\n",
        "# View the image\n",
        "t =  torchvision.transforms.ToPILImage()\n",
        "plt.imshow(t(example_image))\n",
        "\n",
        "# These are what the class labels in CIFAR-10 represent. For more information,\n",
        "# visit https://www.cs.toronto.edu/~kriz/cifar.html\n",
        "classes = [\"airplane\", \"automobile\", \"bird\", \"cat\", \"deer\", \"dog\", \"frog\",\n",
        "           \"horse\", \"ship\", \"truck\"]\n",
        "print(f\"This image is labeled as class {classes[example_label]}\")\n"
      ]
    },
    {
      "cell_type": "markdown",
      "metadata": {
        "id": "JdBbLQdC_mA_"
      },
      "source": [
        "In this problem, we will attempt to predict what class an image is labeled as."
      ]
    },
    {
      "cell_type": "markdown",
      "metadata": {
        "id": "J3HQyGMn_42D"
      },
      "source": [
        "First, let's create our model. For a linear model we could flatten the data before passing it into the model, but that is not be the case for the convolutional neural network."
      ]
    },
    {
      "cell_type": "code",
      "execution_count": null,
      "metadata": {
        "id": "5qLVC9PbACDt"
      },
      "outputs": [],
      "source": [
        "def linear_model() -> nn.Module:\n",
        "    \"\"\"Instantiate a linear model and send it to device.\"\"\"\n",
        "    model =  nn.Sequential(\n",
        "            nn.Flatten(),\n",
        "            nn.Linear(d, 10)\n",
        "         )\n",
        "    return model.to(DEVICE)"
      ]
    },
    {
      "cell_type": "markdown",
      "metadata": {
        "id": "kd49udL8AZ_E"
      },
      "source": [
        "Let's define a method to train this model using SGD as our optimizer."
      ]
    },
    {
      "cell_type": "code",
      "execution_count": null,
      "metadata": {
        "id": "YgcFP1-UBj1Z"
      },
      "outputs": [],
      "source": [
        "def train(\n",
        "    model: nn.Module, optimizer: SGD,\n",
        "    train_loader: DataLoader, val_loader: DataLoader,\n",
        "    epochs: int = 20\n",
        ")-> Tuple[List[float], List[float], List[float], List[float]]:\n",
        "    \"\"\"\n",
        "    Trains a model for the specified number of epochs using the loaders.\n",
        "\n",
        "    Returns: \n",
        "    Lists of training loss, training accuracy, validation loss, validation accuracy for each epoch.\n",
        "    \"\"\"\n",
        "\n",
        "    loss = nn.CrossEntropyLoss()\n",
        "    train_losses = []\n",
        "    train_accuracies = []\n",
        "    val_losses = []\n",
        "    val_accuracies = []\n",
        "    for e in tqdm(range(epochs)):\n",
        "        model.train()\n",
        "        train_loss = 0.0\n",
        "        train_acc = 0.0\n",
        "\n",
        "        # Main training loop; iterate over train_loader. The loop\n",
        "        # terminates when the train loader finishes iterating, which is one epoch.\n",
        "        for (x_batch, labels) in train_loader:\n",
        "            x_batch, labels = x_batch.to(DEVICE), labels.to(DEVICE)\n",
        "            optimizer.zero_grad()\n",
        "            labels_pred = model(x_batch)\n",
        "            batch_loss = loss(labels_pred, labels)\n",
        "            train_loss = train_loss + batch_loss.item()\n",
        "\n",
        "            labels_pred_max = torch.argmax(labels_pred, 1)\n",
        "            batch_acc = torch.sum(labels_pred_max == labels)\n",
        "            train_acc = train_acc + batch_acc.item()\n",
        "\n",
        "            batch_loss.backward()\n",
        "            optimizer.step()\n",
        "        train_losses.append(train_loss / len(train_loader))\n",
        "        train_accuracies.append(train_acc / (batch_size * len(train_loader)))\n",
        "\n",
        "        # Validation loop; use .no_grad() context manager to save memory.\n",
        "        model.eval()\n",
        "        val_loss = 0.0\n",
        "        val_acc = 0.0\n",
        "\n",
        "        with torch.no_grad():\n",
        "            for (v_batch, labels) in val_loader:\n",
        "                v_batch, labels = v_batch.to(DEVICE), labels.to(DEVICE)\n",
        "                labels_pred = model(v_batch)\n",
        "                v_batch_loss = loss(labels_pred, labels)\n",
        "                val_loss = val_loss + v_batch_loss.item()\n",
        "\n",
        "                v_pred_max = torch.argmax(labels_pred, 1)\n",
        "                batch_acc = torch.sum(v_pred_max == labels)\n",
        "                val_acc = val_acc + batch_acc.item()\n",
        "            val_losses.append(val_loss / len(val_loader))\n",
        "            val_accuracies.append(val_acc / (batch_size * len(val_loader)))\n",
        "\n",
        "    return train_losses, train_accuracies, val_losses, val_accuracies\n"
      ]
    },
    {
      "cell_type": "markdown",
      "metadata": {
        "id": "2ZUqV2ZrEf-u"
      },
      "source": [
        "For this problem, we will be using SGD. The two hyperparameters for our linear model trained with SGD are the learning rate and momentum. Only learning rate will be searched for in this example.\n",
        "\n",
        "Note: We ask you to plot the accuracies for the best 5 models for each structure, so you will need to return multiple sets of hyperparameters for the homework, or, if you do random search, run your hyperparameter search multiple times."
      ]
    },
    {
      "cell_type": "code",
      "execution_count": null,
      "metadata": {
        "id": "2p-oDqbyhUvG"
      },
      "outputs": [],
      "source": [
        "def parameter_search(\n",
        "    train_loader: DataLoader, \n",
        "    val_loader: DataLoader, \n",
        "    model_fn:Callable[[], nn.Module]\n",
        ") -> float:\n",
        "    \"\"\"\n",
        "    Parameter search for our linear model using SGD.\n",
        "\n",
        "    Args:\n",
        "    train_loader: the train dataloader.\n",
        "    val_loader: the validation dataloader.\n",
        "    model_fn: a function that, when called, returns a torch.nn.Module.\n",
        "\n",
        "    Returns:\n",
        "    The learning rate with the least validation loss.\n",
        "    NOTE: you may need to modify this function to search over and return\n",
        "     other parameters beyond learning rate.\n",
        "    \"\"\"\n",
        "    num_iter = 10  # This will likely not be enough for the rest of the problem.\n",
        "    best_loss = torch.tensor(np.inf)\n",
        "    best_lr = 0.0\n",
        "\n",
        "    lrs = torch.linspace(10 ** (-6), 10 ** (-1), num_iter)\n",
        "\n",
        "    for lr in lrs:\n",
        "        print(f\"trying learning rate {lr}\")\n",
        "        model = model_fn()\n",
        "        optim = SGD(model.parameters(), lr)\n",
        "        \n",
        "        train_loss, train_acc, val_loss, val_acc = train(\n",
        "            model,\n",
        "            optim,\n",
        "            train_loader,\n",
        "            val_loader,\n",
        "            epochs=20\n",
        "            )\n",
        "\n",
        "        if min(val_loss) < best_loss:\n",
        "            best_loss = min(val_loss)\n",
        "            best_lr = lr\n",
        "        \n",
        "    return best_lr"
      ]
    },
    {
      "cell_type": "markdown",
      "metadata": {
        "id": "ZULxD9sGHm1D"
      },
      "source": [
        "Now that we have everything, we can train and evaluate our model."
      ]
    },
    {
      "cell_type": "code",
      "execution_count": null,
      "metadata": {
        "colab": {
          "base_uri": "https://localhost:8080/",
          "referenced_widgets": [
            "b854d671884f4665a52c35a60e10ee17",
            "77514a93127f4aa291b13e8b82098334",
            "e5f8331defef4c26b26a87c61ccc26c1",
            "3a03dfc67a28475e9d672a31196db358",
            "fb372b3fbd04411496f3bb0243dbb6e6",
            "6a3b28b18b3e42028e9dd9321dbed77d",
            "0b9c90017289437d83cd678177b6bfb0",
            "ecf7718ece43405eb3f3ae2ebbe82d66",
            "528930246f304d42892b3a2dae7929d1",
            "6721d90bcc3142c69bbd9334814d881c"
          ]
        },
        "id": "azwXX-AEIGKx",
        "outputId": "55b65e28-7d24-4924-e8a7-bbb5b1fc22ff"
      },
      "outputs": [
        {
          "name": "stdout",
          "output_type": "stream",
          "text": [
            "trying learning rate 9.999999974752427e-07\n"
          ]
        },
        {
          "data": {
            "application/vnd.jupyter.widget-view+json": {
              "model_id": "b854d671884f4665a52c35a60e10ee17",
              "version_major": 2,
              "version_minor": 0
            },
            "text/plain": [
              "  0%|          | 0/20 [00:00<?, ?it/s]"
            ]
          },
          "metadata": {},
          "output_type": "display_data"
        },
        {
          "name": "stdout",
          "output_type": "stream",
          "text": [
            "trying learning rate 0.011112000793218613\n"
          ]
        },
        {
          "data": {
            "application/vnd.jupyter.widget-view+json": {
              "model_id": "77514a93127f4aa291b13e8b82098334",
              "version_major": 2,
              "version_minor": 0
            },
            "text/plain": [
              "  0%|          | 0/20 [00:00<?, ?it/s]"
            ]
          },
          "metadata": {},
          "output_type": "display_data"
        },
        {
          "name": "stdout",
          "output_type": "stream",
          "text": [
            "trying learning rate 0.02222300134599209\n"
          ]
        },
        {
          "data": {
            "application/vnd.jupyter.widget-view+json": {
              "model_id": "e5f8331defef4c26b26a87c61ccc26c1",
              "version_major": 2,
              "version_minor": 0
            },
            "text/plain": [
              "  0%|          | 0/20 [00:00<?, ?it/s]"
            ]
          },
          "metadata": {},
          "output_type": "display_data"
        },
        {
          "name": "stdout",
          "output_type": "stream",
          "text": [
            "trying learning rate 0.033334001898765564\n"
          ]
        },
        {
          "data": {
            "application/vnd.jupyter.widget-view+json": {
              "model_id": "3a03dfc67a28475e9d672a31196db358",
              "version_major": 2,
              "version_minor": 0
            },
            "text/plain": [
              "  0%|          | 0/20 [00:00<?, ?it/s]"
            ]
          },
          "metadata": {},
          "output_type": "display_data"
        },
        {
          "name": "stdout",
          "output_type": "stream",
          "text": [
            "trying learning rate 0.04444500058889389\n"
          ]
        },
        {
          "data": {
            "application/vnd.jupyter.widget-view+json": {
              "model_id": "fb372b3fbd04411496f3bb0243dbb6e6",
              "version_major": 2,
              "version_minor": 0
            },
            "text/plain": [
              "  0%|          | 0/20 [00:00<?, ?it/s]"
            ]
          },
          "metadata": {},
          "output_type": "display_data"
        },
        {
          "name": "stdout",
          "output_type": "stream",
          "text": [
            "trying learning rate 0.05555599927902222\n"
          ]
        },
        {
          "data": {
            "application/vnd.jupyter.widget-view+json": {
              "model_id": "6a3b28b18b3e42028e9dd9321dbed77d",
              "version_major": 2,
              "version_minor": 0
            },
            "text/plain": [
              "  0%|          | 0/20 [00:00<?, ?it/s]"
            ]
          },
          "metadata": {},
          "output_type": "display_data"
        },
        {
          "name": "stdout",
          "output_type": "stream",
          "text": [
            "trying learning rate 0.06666699796915054\n"
          ]
        },
        {
          "data": {
            "application/vnd.jupyter.widget-view+json": {
              "model_id": "0b9c90017289437d83cd678177b6bfb0",
              "version_major": 2,
              "version_minor": 0
            },
            "text/plain": [
              "  0%|          | 0/20 [00:00<?, ?it/s]"
            ]
          },
          "metadata": {},
          "output_type": "display_data"
        },
        {
          "name": "stdout",
          "output_type": "stream",
          "text": [
            "trying learning rate 0.07777799665927887\n"
          ]
        },
        {
          "data": {
            "application/vnd.jupyter.widget-view+json": {
              "model_id": "ecf7718ece43405eb3f3ae2ebbe82d66",
              "version_major": 2,
              "version_minor": 0
            },
            "text/plain": [
              "  0%|          | 0/20 [00:00<?, ?it/s]"
            ]
          },
          "metadata": {},
          "output_type": "display_data"
        },
        {
          "name": "stdout",
          "output_type": "stream",
          "text": [
            "trying learning rate 0.08888900279998779\n"
          ]
        },
        {
          "data": {
            "application/vnd.jupyter.widget-view+json": {
              "model_id": "528930246f304d42892b3a2dae7929d1",
              "version_major": 2,
              "version_minor": 0
            },
            "text/plain": [
              "  0%|          | 0/20 [00:00<?, ?it/s]"
            ]
          },
          "metadata": {},
          "output_type": "display_data"
        },
        {
          "name": "stdout",
          "output_type": "stream",
          "text": [
            "trying learning rate 0.10000000149011612\n"
          ]
        },
        {
          "data": {
            "application/vnd.jupyter.widget-view+json": {
              "model_id": "6721d90bcc3142c69bbd9334814d881c",
              "version_major": 2,
              "version_minor": 0
            },
            "text/plain": [
              "  0%|          | 0/20 [00:00<?, ?it/s]"
            ]
          },
          "metadata": {},
          "output_type": "display_data"
        }
      ],
      "source": [
        "best_lr = parameter_search(train_loader, val_loader, linear_model)\n"
      ]
    },
    {
      "cell_type": "code",
      "execution_count": null,
      "metadata": {
        "id": "oDzs8UtJSqsT"
      },
      "outputs": [],
      "source": [
        "model = linear_model()\n",
        "optimizer = SGD(model.parameters(), best_lr)"
      ]
    },
    {
      "cell_type": "code",
      "execution_count": null,
      "metadata": {
        "id": "_tk07LfkIPgS",
        "colab": {
          "referenced_widgets": [
            "d8e645bd20de40238f70d1b5332af937"
          ]
        },
        "outputId": "a71200be-d711-43ae-9d4a-47387cf8b21a"
      },
      "outputs": [
        {
          "data": {
            "application/vnd.jupyter.widget-view+json": {
              "model_id": "d8e645bd20de40238f70d1b5332af937",
              "version_major": 2,
              "version_minor": 0
            },
            "text/plain": [
              "  0%|          | 0/20 [00:00<?, ?it/s]"
            ]
          },
          "metadata": {},
          "output_type": "display_data"
        }
      ],
      "source": [
        "# We are only using 20 epochs for this example. You may have to use more.\n",
        "train_loss, train_accuracy, val_loss, val_accuracy = train(\n",
        "    model, optimizer, train_loader, val_loader, 20\n",
        ")"
      ]
    },
    {
      "cell_type": "markdown",
      "metadata": {
        "id": "MSi0cEADDJcf"
      },
      "source": [
        "Plot the training and validation accuracy for each epoch."
      ]
    },
    {
      "cell_type": "code",
      "execution_count": null,
      "metadata": {
        "colab": {
          "base_uri": "https://localhost:8080/",
          "height": 295
        },
        "id": "-i_KVlY3WthL",
        "outputId": "091bfafc-4961-40a9-94ee-896cca4b97c5"
      },
      "outputs": [
        {
          "data": {
            "image/png": "[encoded data removed]",
            "text/plain": [
              "<Figure size 432x288 with 1 Axes>"
            ]
          },
          "metadata": {
            "needs_background": "light"
          },
          "output_type": "display_data"
        }
      ],
      "source": [
        "epochs = range(1, 21)\n",
        "plt.plot(epochs, train_accuracy, label=\"Train Accuracy\")\n",
        "plt.plot(epochs, val_accuracy, label=\"Validation Accuracy\")\n",
        "plt.xlabel(\"Epoch\")\n",
        "plt.ylabel(\"Accuracy\")\n",
        "plt.legend()\n",
        "plt.title(\"Logistic Regression Accuracy for CIFAR-10 vs Epoch\")\n",
        "plt.show()"
      ]
    },
    {
      "cell_type": "markdown",
      "metadata": {
        "id": "zu8AaNRl4FDi"
      },
      "source": [
        "The last thing we have to do is evaluate our model on the testing data."
      ]
    },
    {
      "cell_type": "code",
      "execution_count": null,
      "metadata": {
        "id": "KzxYGlYH4MwC"
      },
      "outputs": [],
      "source": [
        "def evaluate(\n",
        "    model: nn.Module, loader: DataLoader\n",
        ") -> Tuple[float, float]:\n",
        "    \"\"\"Computes test loss and accuracy of model on loader.\"\"\"\n",
        "    loss = nn.CrossEntropyLoss()\n",
        "    model.eval()\n",
        "    test_loss = 0.0\n",
        "    test_acc = 0.0\n",
        "    with torch.no_grad():\n",
        "        for (batch, labels) in loader:\n",
        "            batch, labels = batch.to(DEVICE), labels.to(DEVICE)\n",
        "            y_batch_pred = model(batch)\n",
        "            batch_loss = loss(y_batch_pred, labels)\n",
        "            test_loss = test_loss + batch_loss.item()\n",
        "\n",
        "            pred_max = torch.argmax(y_batch_pred, 1)\n",
        "            batch_acc = torch.sum(pred_max == labels)\n",
        "            test_acc = test_acc + batch_acc.item()\n",
        "        test_loss = test_loss / len(loader)\n",
        "        test_acc = test_acc / (batch_size * len(loader))\n",
        "        return test_loss, test_acc"
      ]
    },
    {
      "cell_type": "code",
      "execution_count": null,
      "metadata": {
        "colab": {
          "base_uri": "https://localhost:8080/"
        },
        "id": "ekfbYD_34XFB",
        "outputId": "97ef26db-193f-40ba-e9d4-3d005e1ed61a"
      },
      "outputs": [
        {
          "name": "stdout",
          "output_type": "stream",
          "text": [
            "Test Accuracy: 0.38558148734177217\n"
          ]
        }
      ],
      "source": [
        "test_loss, test_acc = evaluate(model, test_loader)\n",
        "print(f\"Test Accuracy: {test_acc}\")"
      ]
    },
    {
      "cell_type": "markdown",
      "metadata": {
        "id": "OK-KuYt41uFA"
      },
      "source": [
        "The rest is yours to code. You can structure the code any way you would like.\n",
        "\n",
        "We do advise making using code cells and functions (train, search, predict etc.) for each subproblem, since they will make your code easier to debug. \n",
        "\n",
        "Also note that several of the functions above can be reused for the various different models you will implement for this problem; i.e., you won't need to write a new `evaluate()`."
      ]
    },
    {
      "cell_type": "markdown",
      "source": [
        "## CIFAR-10 neural networks"
      ],
      "metadata": {
        "id": "5JAkBFTvrTcj"
      }
    },
    {
      "cell_type": "code",
      "source": [
        "batch_size = 128\n",
        "\n",
        "subset = list(range(0, 10000))\n",
        "train_subset = torch.utils.data.Subset(train_dataset, indices=subset)\n",
        "\n",
        "train_data, val_data = random_split(train_subset, [int(0.9 * len(train_subset)), int( 0.1 * len(train_subset))])\n",
        "\n",
        "# Create separate dataloaders for the train, test, and validation set\n",
        "train_loader = DataLoader(\n",
        "    train_data,\n",
        "    batch_size=batch_size,\n",
        "    shuffle=True\n",
        ")\n",
        "\n",
        "val_loader = DataLoader(\n",
        "    val_data,\n",
        "    batch_size=batch_size,\n",
        "    shuffle=True\n",
        ")\n",
        "\n",
        "test_loader = DataLoader(\n",
        "    test_dataset,\n",
        "    batch_size=batch_size,\n",
        "    shuffle=True\n",
        ")"
      ],
      "metadata": {
        "id": "McPwOn8xrR2-"
      },
      "execution_count": 46,
      "outputs": []
    },
    {
      "cell_type": "markdown",
      "source": [
        "$x^{out} = W_2 \\mathrm{relu} (W_1 (x^{in}) + b_1 ) + b_2$"
      ],
      "metadata": {
        "id": "1SE3xwvla6hP"
      }
    },
    {
      "cell_type": "code",
      "source": [
        "def fully_connected_neural_network(dim_in, m, dim_out) -> nn.Module:\n",
        "    \"\"\"Fully-connected output, 1 fully-connected hidden layer.\"\"\"\n",
        "    model =  nn.Sequential(\n",
        "            nn.Linear(dim_in, m),  # [in, out]\n",
        "            nn.ReLU(),\n",
        "            nn.Linear(m, dim_out),\n",
        "         )\n",
        "    return model.to(DEVICE)"
      ],
      "metadata": {
        "id": "6gRW9EyTWFRO"
      },
      "execution_count": 48,
      "outputs": []
    },
    {
      "cell_type": "code",
      "source": [
        "def train(\n",
        "    model: nn.Module, optimizer: SGD,\n",
        "    train_loader: DataLoader, val_loader: DataLoader,\n",
        "    epochs: int = 20\n",
        ")-> Tuple[List[float], List[float], List[float], List[float]]:\n",
        "    \"\"\"\n",
        "    Trains a model for the specified number of epochs using the loaders.\n",
        "\n",
        "    Returns: \n",
        "    Lists of training loss, training accuracy, validation loss, validation accuracy for each epoch.\n",
        "    \"\"\"\n",
        "\n",
        "    loss = nn.CrossEntropyLoss()\n",
        "    train_losses = []\n",
        "    train_accuracies = []\n",
        "    val_losses = []\n",
        "    val_accuracies = []\n",
        "    for e in tqdm(range(epochs)):\n",
        "        model.train()\n",
        "        train_loss = 0.0\n",
        "        train_acc = 0.0\n",
        "\n",
        "        # Main training loop; iterate over train_loader. The loop\n",
        "        # terminates when the train loader finishes iterating, which is one epoch.\n",
        "        for (x_batch, labels) in train_loader:\n",
        "            x_batch, labels = x_batch.to(DEVICE), labels.to(DEVICE)\n",
        "            optimizer.zero_grad()\n",
        "            labels_pred = model(x_batch)\n",
        "            batch_loss = loss(labels_pred, labels)\n",
        "            train_loss = train_loss + batch_loss.item()\n",
        "\n",
        "            labels_pred_max = torch.argmax(labels_pred, 1)\n",
        "            batch_acc = torch.sum(labels_pred_max == labels)\n",
        "            train_acc = train_acc + batch_acc.item()\n",
        "\n",
        "            batch_loss.backward()\n",
        "            optimizer.step()\n",
        "        train_losses.append(train_loss / len(train_loader))\n",
        "        train_accuracies.append(train_acc / (batch_size * len(train_loader)))\n",
        "\n",
        "        # Validation loop; use .no_grad() context manager to save memory.\n",
        "        model.eval()\n",
        "        val_loss = 0.0\n",
        "        val_acc = 0.0\n",
        "\n",
        "        with torch.no_grad():\n",
        "            for (v_batch, labels) in val_loader:\n",
        "                v_batch, labels = v_batch.to(DEVICE), labels.to(DEVICE)\n",
        "                labels_pred = model(v_batch)\n",
        "                v_batch_loss = loss(labels_pred, labels)\n",
        "                val_loss = val_loss + v_batch_loss.item()\n",
        "\n",
        "                v_pred_max = torch.argmax(labels_pred, 1)\n",
        "                batch_acc = torch.sum(v_pred_max == labels)\n",
        "                val_acc = val_acc + batch_acc.item()\n",
        "            val_losses.append(val_loss / len(val_loader))\n",
        "            val_accuracies.append(val_acc / (batch_size * len(val_loader)))\n",
        "\n",
        "    return train_losses, train_accuracies, val_losses, val_accuracies\n"
      ],
      "metadata": {
        "id": "9x2TFY40zktA"
      },
      "execution_count": null,
      "outputs": []
    },
    {
      "cell_type": "code",
      "source": [
        "def parameter_search(\n",
        "    train_loader: DataLoader, \n",
        "    val_loader: DataLoader, \n",
        "    model_fn:Callable[[], nn.Module]\n",
        ") -> float:\n",
        "    \"\"\"\n",
        "    Parameter search for our linear model using SGD.\n",
        "\n",
        "    Args:\n",
        "    train_loader: the train dataloader.\n",
        "    val_loader: the validation dataloader.\n",
        "    model_fn: a function that, when called, returns a torch.nn.Module.\n",
        "\n",
        "    Returns:\n",
        "    The learning rate with the least validation loss.\n",
        "    NOTE: you may need to modify this function to search over and return\n",
        "     other parameters beyond learning rate.\n",
        "    \"\"\"\n",
        "    num_iter = 10  # This will likely not be enough for the rest of the problem.\n",
        "    best_loss = torch.tensor(np.inf)\n",
        "    best_lr = 0.0\n",
        "\n",
        "    #TODO: random search\n",
        "    lrs = torch.linspace(10 ** (-6), 10 ** (-1), num_iter)\n",
        "    momentum = \n",
        "    m = # ~ uniform(logspace(0, 100))\n",
        "\n",
        "    for lr in lrs:\n",
        "        print(f\"trying learning rate {lr}\")\n",
        "        model = model_fn()\n",
        "        optim = SGD(model.parameters(), lr=lr, momentum=momentum)\n",
        "        \n",
        "        train_loss, train_acc, val_loss, val_acc = train(\n",
        "            model,\n",
        "            optim,\n",
        "            train_loader,\n",
        "            val_loader,\n",
        "            epochs=20\n",
        "            )\n",
        "\n",
        "        if min(val_loss) < best_loss:\n",
        "            best_loss = min(val_loss)\n",
        "            best_lr = lr\n",
        "        \n",
        "    return best_lr"
      ],
      "metadata": {
        "id": "lu_UJcyMHpin"
      },
      "execution_count": null,
      "outputs": []
    },
    {
      "cell_type": "code",
      "source": [
        "DIM_IN = \n",
        "M = \n",
        "DIM_OUT = \n",
        "model_1 = fully_connected_neural_network(dim_in, m, dim_out)\n",
        "best_parameters = parameter_search(train_loader, val_loader, model_1)\n"
      ],
      "metadata": {
        "id": "iHHtWAQHJPcN"
      },
      "execution_count": null,
      "outputs": []
    }
  ],
  "metadata": {
    "accelerator": "GPU",
    "colab": {
      "provenance": [],
      "include_colab_link": true
    },
    "kernelspec": {
      "display_name": "cse446",
      "language": "python",
      "name": "python3"
    },
    "language_info": {
      "codemirror_mode": {
        "name": "ipython",
        "version": 3
      },
      "file_extension": ".py",
      "mimetype": "text/x-python",
      "name": "python",
      "nbconvert_exporter": "python",
      "pygments_lexer": "ipython3",
      "version": "3.8.10"
    },
    "varInspector": {
      "cols": {
        "lenName": 16,
        "lenType": 16,
        "lenVar": 40
      },
      "kernels_config": {
        "python": {
          "delete_cmd_postfix": "",
          "delete_cmd_prefix": "del ",
          "library": "var_list.py",
          "varRefreshCmd": "print(var_dic_list())"
        },
        "r": {
          "delete_cmd_postfix": ") ",
          "delete_cmd_prefix": "rm(",
          "library": "var_list.r",
          "varRefreshCmd": "cat(var_dic_list()) "
        }
      },
      "types_to_exclude": [
        "module",
        "function",
        "builtin_function_or_method",
        "instance",
        "_Feature"
      ],
      "window_display": false
    },
    "vscode": {
      "interpreter": {
        "hash": "bf814fda1cc440ac317e22279a1ec33d1b20faeecc9ea242b28923e33d4f784d"
      }
    }
  },
  "nbformat": 4,
  "nbformat_minor": 0
}